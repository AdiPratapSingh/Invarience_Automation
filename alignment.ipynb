{
 "cells": [
  {
   "cell_type": "code",
   "execution_count": 9,
   "metadata": {},
   "outputs": [],
   "source": [
    "# import the necessary packages\n",
    "import numpy as np\n",
    "import imutils\n",
    "import cv2\n",
    "import argparse\n",
    "\n",
    "def align_images(image, template, maxFeatures=5000, keepPercent=0.15,\n",
    "\tdebug=False):\n",
    "\t# convert both the input image and template to grayscale\n",
    "\timageGray = cv2.cvtColor(image, cv2.COLOR_BGR2GRAY)\n",
    "\ttemplateGray = cv2.cvtColor(template, cv2.COLOR_BGR2GRAY)\n",
    "\n",
    "    # use ORB to detect keypoints and extract (binary) local\n",
    "\t# invariant features\n",
    "\torb = cv2.ORB_create(maxFeatures)\n",
    "\t(kpsA, descsA) = orb.detectAndCompute(imageGray, None)\n",
    "\t(kpsB, descsB) = orb.detectAndCompute(templateGray, None)\n",
    "\n",
    "\t# match the features\n",
    "\tmethod = cv2.DESCRIPTOR_MATCHER_BRUTEFORCE_HAMMING\n",
    "\tmatcher = cv2.DescriptorMatcher_create(method)\n",
    "\tmatches = matcher.match(descsA, descsB, None)\n",
    "\n",
    "    # sort the matches by their distance (the smaller the distance,\n",
    "\t# the \"more similar\" the features are)\n",
    "\tmatches = sorted(matches, key=lambda x:x.distance)\n",
    "\n",
    "\t# keep only the top matches\n",
    "\tkeep = int(len(matches) * keepPercent)\n",
    "\tmatches = matches[:keep]\n",
    "\n",
    "\t# check to see if we should visualize the matched keypoints\n",
    "\tif debug:\n",
    "\t\tmatchedVis = cv2.drawMatches(image, kpsA, template, kpsB,\n",
    "\t\t\tmatches, None)\n",
    "\t\tmatchedVis = imutils.resize(matchedVis, width=1000)\n",
    "\t\tcv2.imshow(\"Matched Keypoints\", matchedVis)\n",
    "\t\tcv2.waitKey(0)\n",
    "    \n",
    "    # allocate memory for the keypoints (x, y)-coordinates from the\n",
    "\t# top matches -- we'll use these coordinates to compute our\n",
    "\t# homography matrix\n",
    "\tptsA = np.zeros((len(matches), 2), dtype=\"float\")\n",
    "\tptsB = np.zeros((len(matches), 2), dtype=\"float\")\n",
    "\n",
    "\t# loop over the top matches\n",
    "\tfor (i, m) in enumerate(matches):\n",
    "\t\t# indicate that the two keypoints in the respective images\n",
    "\t\t# map to each other\n",
    "\t\tptsA[i] = kpsA[m.queryIdx].pt\n",
    "\t\tptsB[i] = kpsB[m.trainIdx].pt\n",
    "    \n",
    "    # compute the homography matrix between the two sets of matched\n",
    "\t# points\n",
    "\t(H, mask) = cv2.findHomography(ptsA, ptsB, method=cv2.RANSAC)\n",
    "\n",
    "\t# use the homography matrix to align the images\n",
    "\t(h, w) = template.shape[:2]\n",
    "\taligned = cv2.warpPerspective(image, H, (w, h))\n",
    "\n",
    "\t# return the aligned image\n",
    "\treturn aligned"
   ]
  },
  {
   "cell_type": "code",
   "execution_count": 10,
   "metadata": {},
   "outputs": [
    {
     "name": "stdout",
     "output_type": "stream",
     "text": [
      "[INFO] loading images...\n"
     ]
    }
   ],
   "source": [
    "print(\"[INFO] loading images...\")\n",
    "image = cv2.imread(\"pcb1.jpg\")\n",
    "template = cv2.imread(\"pcb3.jpg\")"
   ]
  },
  {
   "cell_type": "code",
   "execution_count": 12,
   "metadata": {},
   "outputs": [
    {
     "name": "stdout",
     "output_type": "stream",
     "text": [
      "[INFO] aligning images...\n"
     ]
    },
    {
     "data": {
      "text/plain": [
       "-1"
      ]
     },
     "execution_count": 12,
     "metadata": {},
     "output_type": "execute_result"
    }
   ],
   "source": [
    "# construct the argument parser and parse the arguments\n",
    "# ap = argparse.ArgumentParser()\n",
    "# ap.add_argument(\"-i\", \"--image\", required=True,\n",
    "# \thelp=\"path to input image that we'll align to template\")\n",
    "# ap.add_argument(\"-t\", \"--template\", required=True,\n",
    "# \thelp=\"path to input template image\")\n",
    "# args = vars(ap.parse_args())\n",
    "\n",
    "# print(\"[INFO] loading images...\")\n",
    "# image = cv2.imread(\"pcb_fixed.jpg\")\n",
    "# template = cv2.imread(\"pcb_rotate2.jpg\")\n",
    "\n",
    "# load the input image and template from disk\n",
    "# print(\"[INFO] loading images...\")\n",
    "# image = cv2.imread(args[\"image\"])\n",
    "# template = cv2.imread(args[\"template\"])\n",
    "# align the images\n",
    "print(\"[INFO] aligning images...\")\n",
    "aligned = align_images(image, template, debug=True)\n",
    "\n",
    "#resize both the aligned and template images so we can easily\n",
    "# visualize them on our screen\n",
    "aligned = imutils.resize(aligned, width=700)\n",
    "template = imutils.resize(template, width=700)\n",
    "# our first output visualization of the image alignment will be a\n",
    "# side-by-side comparison of the output aligned image and the\n",
    "# template\n",
    "stacked = np.hstack([aligned, template])\n",
    "\n",
    "# our second image alignment visualization will be *overlaying* the\n",
    "# aligned image on the template, that way we can obtain an idea of\n",
    "# how good our image alignment is\n",
    "overlay = template.copy()\n",
    "output = aligned.copy()\n",
    "cv2.addWeighted(overlay, 0.5, output, 0.5, 0, output)\n",
    "# show the two output image alignment visualizations\n",
    "cv2.imshow(\"Image Alignment Stacked\", stacked)\n",
    "cv2.imshow(\"Image Alignment Overlay\", output)\n",
    "cv2.waitKey(0)"
   ]
  },
  {
   "cell_type": "markdown",
   "metadata": {},
   "source": [
    "## Method 2\n"
   ]
  },
  {
   "cell_type": "code",
   "execution_count": 2,
   "metadata": {},
   "outputs": [
    {
     "name": "stdout",
     "output_type": "stream",
     "text": [
      "Reading reference image :  pcb3.jpg\n",
      "Reading image to align :  pcb1.jpg\n",
      "Aligning images ...\n",
      "Saving aligned image :  aligned.jpg\n",
      "Estimated homography : \n",
      " [[-1.91465584e-02 -9.81811448e-01  1.54523854e+03]\n",
      " [ 9.55054923e-01  4.37949566e-04 -4.58302639e+02]\n",
      " [ 9.27109179e-06  5.09970149e-05  1.00000000e+00]]\n"
     ]
    }
   ],
   "source": [
    "from __future__ import print_function\n",
    "import cv2\n",
    "import numpy as np\n",
    "MAX_FEATURES = 5000\n",
    "GOOD_MATCH_PERCENT = 0.15\n",
    "import matplotlib.pyplot as plt\n",
    "%matplotlib inline\n",
    "import imutils\n",
    "\n",
    "def alignImages(im1, im2):\n",
    "\n",
    "  # Convert images to grayscale\n",
    "  im1Gray = cv2.cvtColor(im1, cv2.COLOR_BGR2GRAY)\n",
    "  im2Gray = cv2.cvtColor(im2, cv2.COLOR_BGR2GRAY)\n",
    "\n",
    "  # Detect ORB features and compute descriptors.\n",
    "  orb = cv2.ORB_create(MAX_FEATURES)\n",
    "  keypoints1, descriptors1 = orb.detectAndCompute(im1Gray, None)\n",
    "  keypoints2, descriptors2 = orb.detectAndCompute(im2Gray, None)\n",
    "\n",
    "  # Match features.\n",
    "  matcher = cv2.DescriptorMatcher_create(cv2.DESCRIPTOR_MATCHER_BRUTEFORCE_HAMMING)\n",
    "  matches = matcher.match(descriptors1, descriptors2, None)\n",
    "\n",
    "  # Sort matches by score\n",
    "  # matches.sort(key=lambda x: x.distance, reverse=False)\n",
    "  matches = sorted(matches, key=lambda x:x.distance)\n",
    "  # Remove not so good matches\n",
    "  numGoodMatches = int(len(matches) * GOOD_MATCH_PERCENT)\n",
    "  matches = matches[:numGoodMatches]\n",
    "\n",
    "  # Draw top matches\n",
    "  imMatches = cv2.drawMatches(im1, keypoints1, im2, keypoints2, matches, None)\n",
    "  cv2.imwrite(\"matches.jpg\", imMatches)\n",
    "\n",
    "  # Extract location of good matches\n",
    "  points1 = np.zeros((len(matches), 2), dtype=np.float32)\n",
    "  points2 = np.zeros((len(matches), 2), dtype=np.float32)\n",
    "\n",
    "  for i, match in enumerate(matches):\n",
    "    points1[i, :] = keypoints1[match.queryIdx].pt\n",
    "    points2[i, :] = keypoints2[match.trainIdx].pt\n",
    "  # Find homography\n",
    "  h, mask = cv2.findHomography(points1, points2, cv2.RANSAC)\n",
    "  # Use homography\n",
    "  height, width, channels = im2.shape\n",
    "  im1Reg = cv2.warpPerspective(im1, h, (width, height))\n",
    "  return im1Reg, h\n",
    "\n",
    "if __name__ == '__main__':\n",
    "\n",
    "  # Read reference image\n",
    "  refFilename = \"pcb3.jpg\"\n",
    "  # refFilename = \"pcb_fixed.jpg\"\n",
    "  print(\"Reading reference image : \", refFilename)\n",
    "  imReference = cv2.imread(refFilename, cv2.IMREAD_COLOR)\n",
    "\n",
    "  # Read image to be aligned\n",
    "  imFilename = \"pcb1.jpg\"\n",
    "  # imFilename = \"pcb_rotate2.jpg\"\n",
    "  print(\"Reading image to align : \", imFilename);\n",
    "  im = cv2.imread(imFilename, cv2.IMREAD_COLOR)\n",
    "  print(\"Aligning images ...\")\n",
    "\n",
    "  # Registered image will be resotred in imReg.\n",
    "  # The estimated homography will be stored in h.\n",
    "  imReg, h = alignImages(im, imReference)\n",
    "  # Write aligned image to disk.\n",
    "  outFilename = \"aligned.jpg\"\n",
    "  print(\"Saving aligned image : \", outFilename);\n",
    "  cv2.imwrite(outFilename, imReg)\n",
    "  # plt.imshow(imReference)\n",
    "  # plt.imshow(imReg)\n",
    "  # Print estimated homography\n",
    "  print(\"Estimated homography : \\n\",  h)\n"
   ]
  },
  {
   "cell_type": "code",
   "execution_count": 3,
   "metadata": {},
   "outputs": [
    {
     "data": {
      "text/plain": [
       "-1"
      ]
     },
     "execution_count": 3,
     "metadata": {},
     "output_type": "execute_result"
    }
   ],
   "source": [
    "aligned = imutils.resize(imReg, width=700)\n",
    "template = imutils.resize(imReference, width=700)\n",
    "# our first output visualization of the image alignment will be a\n",
    "# side-by-side comparison of the output aligned image and the\n",
    "# template\n",
    "stacked = np.hstack([aligned, template])\n",
    "\n",
    "# our second image alignment visualization will be *overlaying* the\n",
    "# aligned image on the template, that way we can obtain an idea of\n",
    "# how good our image alignment is\n",
    "overlay = template.copy()\n",
    "output = aligned.copy()\n",
    "cv2.addWeighted(overlay, 0.5, output, 0.5, 0, output)\n",
    "# show the two output image alignment visualizations\n",
    "cv2.imshow(\"Image Alignment Stacked\", stacked)\n",
    "cv2.imshow(\"Image Alignment Overlay\", output)\n",
    "cv2.waitKey(0)"
   ]
  },
  {
   "cell_type": "code",
   "execution_count": null,
   "metadata": {},
   "outputs": [],
   "source": []
  }
 ],
 "metadata": {
  "interpreter": {
   "hash": "c0f70214c0dd213f07f54ee5d6e0ea644bdbba35113c9bfe8aaa0d1db03ad5dd"
  },
  "kernelspec": {
   "display_name": "Python 3.8.5 ('base')",
   "language": "python",
   "name": "python3"
  },
  "language_info": {
   "codemirror_mode": {
    "name": "ipython",
    "version": 3
   },
   "file_extension": ".py",
   "mimetype": "text/x-python",
   "name": "python",
   "nbconvert_exporter": "python",
   "pygments_lexer": "ipython3",
   "version": "3.8.5"
  },
  "orig_nbformat": 4
 },
 "nbformat": 4,
 "nbformat_minor": 2
}
