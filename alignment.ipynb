{
 "cells": [
  {
   "cell_type": "code",
   "execution_count": 9,
   "metadata": {},
   "outputs": [],
   "source": [
    "# import the necessary packages\n",
    "import numpy as np\n",
    "import imutils\n",
    "import cv2\n",
    "import argparse\n",
    "\n",
    "def align_images(image, template, maxFeatures=5000, keepPercent=0.15,\n",
    "\tdebug=False):\n",
    "\t# convert both the input image and template to grayscale\n",
    "\timageGray = cv2.cvtColor(image, cv2.COLOR_BGR2GRAY)\n",
    "\ttemplateGray = cv2.cvtColor(template, cv2.COLOR_BGR2GRAY)\n",
    "\n",
    "    # use ORB to detect keypoints and extract (binary) local\n",
    "\t# invariant features\n",
    "\torb = cv2.ORB_create(maxFeatures)\n",
    "\t(kpsA, descsA) = orb.detectAndCompute(imageGray, None)\n",
    "\t(kpsB, descsB) = orb.detectAndCompute(templateGray, None)\n",
    "\n",
    "\t# match the features\n",
    "\tmethod = cv2.DESCRIPTOR_MATCHER_BRUTEFORCE_HAMMING\n",
    "\tmatcher = cv2.DescriptorMatcher_create(method)\n",
    "\tmatches = matcher.match(descsA, descsB, None)\n",
    "\n",
    "    # sort the matches by their distance (the smaller the distance,\n",
    "\t# the \"more similar\" the features are)\n",
    "\tmatches = sorted(matches, key=lambda x:x.distance)\n",
    "\n",
    "\t# keep only the top matches\n",
    "\tkeep = int(len(matches) * keepPercent)\n",
    "\tmatches = matches[:keep]\n",
    "\n",
    "\t# check to see if we should visualize the matched keypoints\n",
    "\tif debug:\n",
    "\t\tmatchedVis = cv2.drawMatches(image, kpsA, template, kpsB,\n",
    "\t\t\tmatches, None)\n",
    "\t\tmatchedVis = imutils.resize(matchedVis, width=1000)\n",
    "\t\tcv2.imshow(\"Matched Keypoints\", matchedVis)\n",
    "\t\tcv2.waitKey(0)\n",
    "    \n",
    "    # allocate memory for the keypoints (x, y)-coordinates from the\n",
    "\t# top matches -- we'll use these coordinates to compute our\n",
    "\t# homography matrix\n",
    "\tptsA = np.zeros((len(matches), 2), dtype=\"float\")\n",
    "\tptsB = np.zeros((len(matches), 2), dtype=\"float\")\n",
    "\n",
    "\t# loop over the top matches\n",
    "\tfor (i, m) in enumerate(matches):\n",
    "\t\t# indicate that the two keypoints in the respective images\n",
    "\t\t# map to each other\n",
    "\t\tptsA[i] = kpsA[m.queryIdx].pt\n",
    "\t\tptsB[i] = kpsB[m.trainIdx].pt\n",
    "    \n",
    "    # compute the homography matrix between the two sets of matched\n",
    "\t# points\n",
    "\t(H, mask) = cv2.findHomography(ptsA, ptsB, method=cv2.RANSAC)\n",
    "\n",
    "\t# use the homography matrix to align the images\n",
    "\t(h, w) = template.shape[:2]\n",
    "\taligned = cv2.warpPerspective(image, H, (w, h))\n",
    "\n",
    "\t# return the aligned image\n",
    "\treturn aligned"
   ]
  },
  {
   "cell_type": "code",
   "execution_count": 10,
   "metadata": {},
   "outputs": [
    {
     "name": "stdout",
     "output_type": "stream",
     "text": [
      "[INFO] loading images...\n"
     ]
    }
   ],
   "source": [
    "print(\"[INFO] loading images...\")\n",
    "image = cv2.imread(\"pcb1.jpg\")\n",
    "template = cv2.imread(\"pcb3.jpg\")"
   ]
  },
  {
   "cell_type": "code",
   "execution_count": 12,
   "metadata": {},
   "outputs": [
    {
     "name": "stdout",
     "output_type": "stream",
     "text": [
      "[INFO] aligning images...\n"
     ]
    },
    {
     "data": {
      "text/plain": [
       "-1"
      ]
     },
     "execution_count": 12,
     "metadata": {},
     "output_type": "execute_result"
    }
   ],
   "source": [
    "# construct the argument parser and parse the arguments\n",
    "# ap = argparse.ArgumentParser()\n",
    "# ap.add_argument(\"-i\", \"--image\", required=True,\n",
    "# \thelp=\"path to input image that we'll align to template\")\n",
    "# ap.add_argument(\"-t\", \"--template\", required=True,\n",
    "# \thelp=\"path to input template image\")\n",
    "# args = vars(ap.parse_args())\n",
    "\n",
    "# print(\"[INFO] loading images...\")\n",
    "# image = cv2.imread(\"pcb_fixed.jpg\")\n",
    "# template = cv2.imread(\"pcb_rotate2.jpg\")\n",
    "\n",
    "# load the input image and template from disk\n",
    "# print(\"[INFO] loading images...\")\n",
    "# image = cv2.imread(args[\"image\"])\n",
    "# template = cv2.imread(args[\"template\"])\n",
    "# align the images\n",
    "print(\"[INFO] aligning images...\")\n",
    "aligned = align_images(image, template, debug=True)\n",
    "\n",
    "#resize both the aligned and template images so we can easily\n",
    "# visualize them on our screen\n",
    "aligned = imutils.resize(aligned, width=700)\n",
    "template = imutils.resize(template, width=700)\n",
    "# our first output visualization of the image alignment will be a\n",
    "# side-by-side comparison of the output aligned image and the\n",
    "# template\n",
    "stacked = np.hstack([aligned, template])\n",
    "\n",
    "# our second image alignment visualization will be *overlaying* the\n",
    "# aligned image on the template, that way we can obtain an idea of\n",
    "# how good our image alignment is\n",
    "overlay = template.copy()\n",
    "output = aligned.copy()\n",
    "cv2.addWeighted(overlay, 0.5, output, 0.5, 0, output)\n",
    "# show the two output image alignment visualizations\n",
    "cv2.imshow(\"Image Alignment Stacked\", stacked)\n",
    "cv2.imshow(\"Image Alignment Overlay\", output)\n",
    "cv2.waitKey(0)"
   ]
  },
  {
   "cell_type": "markdown",
   "metadata": {},
   "source": [
    "## Method 2\n"
   ]
  },
  {
   "cell_type": "code",
   "execution_count": 1,
   "metadata": {},
   "outputs": [
    {
     "name": "stdout",
     "output_type": "stream",
     "text": [
      "Reading reference image :  images/std.jpg\n",
      "Reading image to align :  images/new_mod.jpg\n",
      "Aligning images ...\n",
      "Saving aligned image :  aligned.jpg\n",
      "Estimated homography : \n",
      " [[ 7.35760862e-01 -7.24280358e-01  7.41242149e+02]\n",
      " [ 7.37974038e-01  7.16907015e-01 -5.40348257e+02]\n",
      " [ 2.18322488e-05  2.14726149e-06  1.00000000e+00]]\n"
     ]
    }
   ],
   "source": [
    "from __future__ import print_function\n",
    "import cv2\n",
    "import numpy as np\n",
    "MAX_FEATURES = 5000\n",
    "GOOD_MATCH_PERCENT = 0.15\n",
    "import matplotlib.pyplot as plt\n",
    "%matplotlib inline\n",
    "import imutils\n",
    "\n",
    "def alignImages(im1, im2):\n",
    "\n",
    "  # Convert images to grayscale\n",
    "  im1Gray = cv2.cvtColor(im1, cv2.COLOR_BGR2GRAY)\n",
    "  im2Gray = cv2.cvtColor(im2, cv2.COLOR_BGR2GRAY)\n",
    "\n",
    "  # Detect ORB features and compute descriptors.\n",
    "  orb = cv2.ORB_create(MAX_FEATURES)\n",
    "  keypoints1, descriptors1 = orb.detectAndCompute(im1Gray, None)\n",
    "  keypoints2, descriptors2 = orb.detectAndCompute(im2Gray, None)\n",
    "\n",
    "  # Match features.\n",
    "  matcher = cv2.DescriptorMatcher_create(cv2.DESCRIPTOR_MATCHER_BRUTEFORCE_HAMMING)\n",
    "  matches = matcher.match(descriptors1, descriptors2, None)\n",
    "\n",
    "  # Sort matches by score\n",
    "  # matches.sort(key=lambda x: x.distance, reverse=False)\n",
    "  matches = sorted(matches, key=lambda x:x.distance)\n",
    "  # Remove not so good matches\n",
    "  numGoodMatches = int(len(matches) * GOOD_MATCH_PERCENT)\n",
    "  matches = matches[:numGoodMatches]\n",
    "\n",
    "  # Draw top matches\n",
    "  imMatches = cv2.drawMatches(im1, keypoints1, im2, keypoints2, matches, None)\n",
    "  cv2.imwrite(\"matches.jpg\", imMatches)\n",
    "\n",
    "  # Extract location of good matches\n",
    "  points1 = np.zeros((len(matches), 2), dtype=np.float32)\n",
    "  points2 = np.zeros((len(matches), 2), dtype=np.float32)\n",
    "\n",
    "  for i, match in enumerate(matches):\n",
    "    points1[i, :] = keypoints1[match.queryIdx].pt\n",
    "    points2[i, :] = keypoints2[match.trainIdx].pt\n",
    "  # Find homography\n",
    "  h, mask = cv2.findHomography(points1, points2, cv2.RANSAC)\n",
    "  # Use homography\n",
    "  height, width, channels = im2.shape\n",
    "  im1Reg = cv2.warpPerspective(im1, h, (width, height))\n",
    "  return im1Reg, h\n",
    "\n",
    "if __name__ == '__main__':\n",
    "\n",
    "  # Read reference image\n",
    "  refFilename = \"images/std.jpg\"\n",
    "  # refFilename = \"pcb_fixed.jpg\"\n",
    "  print(\"Reading reference image : \", refFilename)\n",
    "  imReference = cv2.imread(refFilename, cv2.IMREAD_COLOR)\n",
    "\n",
    "  # Read image to be aligned\n",
    "  imFilename = \"images/new_mod.jpg\"\n",
    "  # imFilename = \"pcb_rotate2.jpg\"\n",
    "  print(\"Reading image to align : \", imFilename);\n",
    "  im = cv2.imread(imFilename, cv2.IMREAD_COLOR)\n",
    "  print(\"Aligning images ...\")\n",
    "\n",
    "  # Registered image will be resotred in imReg.\n",
    "  # The estimated homography will be stored in h.\n",
    "  imReg, h = alignImages(im, imReference)\n",
    "  # Write aligned image to disk.\n",
    "  outFilename = \"aligned.jpg\"\n",
    "  print(\"Saving aligned image : \", outFilename);\n",
    "  cv2.imwrite(outFilename, imReg)\n",
    "  # plt.imshow(imReference)\n",
    "  # plt.imshow(imReg)\n",
    "  # Print estimated homography\n",
    "  print(\"Estimated homography : \\n\",  h)\n"
   ]
  },
  {
   "cell_type": "code",
   "execution_count": 45,
   "metadata": {},
   "outputs": [],
   "source": [
    "# def new_coord(tr_coord,h):\n",
    "#     h_inv = np.linalg.inv(h)\n",
    "#     or_coord = np.divide(np.dot(h_inv,tr_coord),np.dot(h_inv,tr_coord)[2])\n",
    "#     return(or_coord)"
   ]
  },
  {
   "cell_type": "code",
   "execution_count": 16,
   "metadata": {},
   "outputs": [
    {
     "name": "stdout",
     "output_type": "stream",
     "text": [
      "or_coord = \n",
      " [[1.01913748e+03]\n",
      " [5.76947497e+02]\n",
      " [1.00000000e+00]]\n"
     ]
    }
   ],
   "source": [
    "# coord = np.array([850,1078,1]).reshape(3,-1)\n",
    "# print(\"coord\\n\", coord)\n",
    "\n",
    "# trans = np.divide(np.dot(h,coord),np.dot(h,coord)[2])\n",
    "# print(\"trans =\\n\",trans)\n",
    "\n",
    "# h_inv = np.linalg.inv(h)\n",
    "# print(\"h_inv \\n\",h_inv)\n",
    "# # print(h_inv)\n",
    "\n",
    "# tr_coord = np.array([890,413,1]).reshape(3,-1)\n",
    "# # or_coord = np.divide(np.dot(h_inv,tr_coord),np.dot(h_inv,tr_coord)[2])\n",
    "# # print(\"or_coord = \\n\", or_coord)\n",
    "# or_coord = new_coord(tr_coord,h)\n",
    "# print(\"or_coord = \\n\", or_coord)   \n",
    "# # scale = trans[2]\n",
    "# # trans_mod = np.divide(trans,scale)\n",
    "# # print(\"trans_mod = \\n\",trans_mod)"
   ]
  },
  {
   "cell_type": "code",
   "execution_count": 13,
   "metadata": {},
   "outputs": [],
   "source": [
    "def new_coord(tr_coord,h):\n",
    "    h_inv = np.linalg.inv(h)\n",
    "    \n",
    "    fin_coord=[]\n",
    "    for i in range(4):\n",
    "        coord = np.append(tr_coord[i],1).reshape(3,-1)\n",
    "        # print(coord,\"\\n\")\n",
    "        mod_coord = np.divide(np.dot(h_inv,coord),np.dot(h_inv,coord)[2])\n",
    "\n",
    "        mod_coord = mod_coord.astype(int)\n",
    "        mod_coord = np.delete(mod_coord,2)\n",
    "        mod_coord.reshape(-1,2)\n",
    "        \n",
    "        fin_coord.append(mod_coord)\n",
    "    fin_coord = np.array(fin_coord)\n",
    "    return(fin_coord)"
   ]
  },
  {
   "cell_type": "code",
   "execution_count": 170,
   "metadata": {},
   "outputs": [],
   "source": [
    "# import pandas as pd\n",
    "# from ast import literal_eval\n",
    "\n",
    "# tr_csv = pd.read_csv(\"../s3a-export/annotations/std.jpg.csv\")\n",
    "# data = tr_csv['Vertices'].to_numpy()\n",
    "# print(data,\"\\n\")\n",
    "# print(data.size,\"\\n\")\n",
    "\n",
    "# res = np.array(literal_eval(data[0]))\n",
    "# print(res,\"\\n\")\n",
    "\n",
    "# or_coord = new_coord(res[0],h)\n",
    "# print(or_coord)\n"
   ]
  },
  {
   "cell_type": "code",
   "execution_count": 14,
   "metadata": {},
   "outputs": [
    {
     "name": "stdout",
     "output_type": "stream",
     "text": [
      "   Instance ID Image File                                           Vertices\n",
      "0            0    std.jpg  [[[890, 413], [890, 439], [941, 439], [941, 41...\n",
      "1            1    std.jpg  [[[1021, 409], [1021, 434], [1074, 434], [1074...\n",
      "2            2    std.jpg  [[[1331, 608], [1331, 657], [1355, 657], [1355...\n",
      "   Instance ID Image File                                           Vertices\n",
      "0            0    std.jpg  [[[766, 551], [784, 569], [820, 533], [802, 51...\n",
      "1            1    std.jpg  [[[855, 454], [873, 472], [910, 434], [892, 41...\n",
      "2            2    std.jpg  [[[1217, 371], [1252, 406], [1269, 389], [1234...\n"
     ]
    }
   ],
   "source": [
    "import pandas as pd\n",
    "from ast import literal_eval\n",
    "\n",
    "tr_csv = pd.read_csv(\"../s3a-export/annotations/std.jpg.csv\")\n",
    "data = tr_csv['Vertices'].to_numpy()\n",
    "# print(data,\"\\n\")\n",
    "print(tr_csv)\n",
    "\n",
    "for i in range(data.size):\n",
    "    res = np.array(literal_eval(data[i]))\n",
    "    or_coord = new_coord(res[0],h)\n",
    "    or_coord = or_coord.reshape(1,4,2)\n",
    "    # data[i] = np.array2string(or_coord,separator=',')\n",
    "    or_coord = str(or_coord).replace('\\n  ','s')\n",
    "    or_coord = str(or_coord).replace(' ',', ')\n",
    "    or_coord = str(or_coord).replace(', , ',', ')\n",
    "    or_coord = str(or_coord).replace('s',', ')\n",
    "    data[i] = or_coord.replace('','')\n",
    "\n",
    "# print(data)\n",
    "# print(data.shape)\n",
    "# data = np.array2string(data)\n",
    "tr_csv.iloc[:,2] = data\n",
    "print(tr_csv)\n",
    "tr_csv.to_csv(r'../s3a-export/annotations/new_mod.jpg.csv',index=False)"
   ]
  },
  {
   "cell_type": "markdown",
   "metadata": {},
   "source": [
    "960, 540 // -100, -100   // 7.640/75,-1.8/92 // -4.48/334, 5/197 // -3.96/312, 21.5/260 //  \n",
    "885,448 // -107.640, -98.2  \n",
    "626,343 // -95.520, -105.00  \n",
    "648.799 // -96.04, -78.5  \n",
    "1115,722 // -117.72, -82.80  \n",
    "\n",
    "\n",
    "8.9 // -118 \n",
    "9.5 // -108\n",
    "\n",
    "462,295 - 485,865 // 570.46 - 17\n",
    "\n",
    "G91 - rel\n",
    "G90 - abs\n",
    "\n",
    "g0 fast\n",
    "g1 linear\n",
    "448,228  1190,330  1105,905  374,788\n",
    "0,0      -35.14,7.7   -30.22,41.2  4.78,33.7\n",
    "\n",
    "Pixel - Distance\n",
    "|742x + 102y| = 22\n",
    "|-85x + 575y| = 17\n",
    "|-731x + -117y| = 22\n",
    "|74x + -560y| = 17\n",
    "x≈0.0293758, y≈0.0292446\n",
    "x≈0.0297297, y≈0.0292367\n",
    "x_avg≈0.02955275, y_avg≈0.02924065\n",
    "\n",
    "CNC - Distance\n",
    "|-35.14x + 7.7y| = 22\n",
    "|4.92x + 33.5y| = 17\n",
    "|35x + -7.5y| = 22\n",
    "|-4.78x + -33.7y| = 17\n",
    "x≈0.616432, y≈0.499322\n",
    "x≈0.619401, y≈0.499243\n",
    "x_avg≈0.6179165, y_avg≈0.4992825\n",
    "\n",
    "Pixel - CNC\n",
    "742x + 102y = -35.14a + 7.7b\n",
    "-85x + 575y = 4.92a + 33.5b\n",
    "731x + 117y = -35a + 7.5b\n",
    "-74x + 560y = 4.78a + 33.7b\n",
    "CNC/pixel = 0.04735849056, 0.07549019607\n",
    "CNC/pixel = 0.05788235294, 0.05826086956\n",
    "CNC/pixel = 0.04787961696, 0.0641025641\n",
    "CNC/pixel = 0.06459459459, 0.06017857142\n",
    "\n",
    "x_avg = -0.0544287637625 \n",
    "y_avg = 0.0645080502875\n",
    "\n",
    "Pixel - CNC via equations\n",
    "xp/xc = -0.04782644580618903\n",
    "yp/yc = 0.05856534126471486"
   ]
  },
  {
   "cell_type": "code",
   "execution_count": 5,
   "metadata": {},
   "outputs": [
    {
     "name": "stdout",
     "output_type": "stream",
     "text": [
      "0.04782644580618903 \n",
      "\n",
      "0.05856534126471486\n"
     ]
    }
   ],
   "source": [
    "xp=0.02955275\n",
    "yp=0.02924065\n",
    "xc=0.6179165\n",
    "yc=0.4992825\n",
    "\n",
    "print(xp/xc,\"\\n\")\n",
    "print(yp/yc)"
   ]
  },
  {
   "cell_type": "code",
   "execution_count": 15,
   "metadata": {},
   "outputs": [
    {
     "name": "stdout",
     "output_type": "stream",
     "text": [
      "Center =  [960. 540.]\n",
      "[793.   541.75]\n",
      "[882.5  444.25]\n",
      "[1243.  380.]\n",
      "   Instance ID Image File                                           Vertices  \\\n",
      "0            0    std.jpg  [[[766, 551], [784, 569], [820, 533], [802, 51...   \n",
      "1            1    std.jpg  [[[855, 454], [873, 472], [910, 434], [892, 41...   \n",
      "2            2    std.jpg  [[[1217, 371], [1252, 406], [1269, 389], [1234...   \n",
      "\n",
      "           Medians     Center_diffs                              CNC_movements  \n",
      "0  [793.0, 541.75]   [-167.0, 1.75]   [7.987016449633567, 0.10248934721325101]  \n",
      "1  [882.5, 444.25]  [-77.5, -95.75]   [3.7065495499796497, -5.607631426096448]  \n",
      "2  [1243.0, 380.0]  [283.0, -160.0]  [-13.534884163151494, -9.370454602354378]  \n"
     ]
    }
   ],
   "source": [
    "# 1005,410 // -97,-91\n",
    "# 1122,318 // -100,-100\n",
    "# dx = -3/117\n",
    "# dy = 9/92\n",
    "\n",
    "# 960 540 // -100 -100\n",
    "# 1330 575 // -116 -97\n",
    "# dx = -16/370\n",
    "# dy = 3/35\n",
    "\n",
    "dx = -0.04782644580618903\n",
    "dy = 0.05856534126471486\n",
    "\n",
    "def median(coord):\n",
    "    x=0\n",
    "    y=0\n",
    "    for i in range(4):\n",
    "        x+=coord[i][0]\n",
    "        y+=coord[i][1]\n",
    "    x=x/4\n",
    "    y=y/4\n",
    "    median_coord = np.array([x,y])\n",
    "    print(median_coord)\n",
    "    return(median_coord)\n",
    "\n",
    "\n",
    "# dx = -3/117\n",
    "# dy = 9/92\n",
    "CNC_ratio=np.array([dx,dy])\n",
    "\n",
    "mod_csv = pd.read_csv(\"../s3a-export/annotations/new_mod.jpg.csv\")\n",
    "data = mod_csv['Vertices'].to_numpy()\n",
    "\n",
    "mod_img = cv2.imread(\"images/new_mod.jpg\")\n",
    "# print(mod_img.shape)\n",
    "centre_x = mod_img.shape[0]/2\n",
    "centre_y = mod_img.shape[1]/2\n",
    "center = np.array([centre_y,centre_x]) # ulta karke dekhta hun\n",
    "print(\"Center = \",center)\n",
    "\n",
    "medians=[]\n",
    "center_diffs=[]\n",
    "CNC_movements=[]\n",
    "\n",
    "for i in range(data.size):\n",
    "    res = np.array(literal_eval(data[i]))\n",
    "    # print(res[0])\n",
    "    median_coord = median(res[0])\n",
    "    medians.append(median_coord)\n",
    "\n",
    "    pixel_diff = np.subtract(median_coord,center)\n",
    "    center_diffs.append(pixel_diff)\n",
    "\n",
    "    CNC_movements.append(np.multiply(pixel_diff,CNC_ratio))\n",
    "\n",
    "\n",
    "mod_csv['Medians'] = medians\n",
    "mod_csv['Center_diffs'] = center_diffs\n",
    "mod_csv['CNC_movements'] = CNC_movements\n",
    "\n",
    "print(mod_csv)\n",
    "mod_csv.to_csv(r'C:/Users/hp/OneDrive/Desktop/new_mod_extra.jpg.csv',index=False)"
   ]
  },
  {
   "cell_type": "code",
   "execution_count": 25,
   "metadata": {},
   "outputs": [
    {
     "data": {
      "text/plain": [
       "(1080, 1920, 3)"
      ]
     },
     "execution_count": 25,
     "metadata": {},
     "output_type": "execute_result"
    }
   ],
   "source": [
    "mod_img = cv2.imread(\"images/new_mod.jpg\")\n",
    "# print(mod_img.shape)\n",
    "mod_img.shape"
   ]
  },
  {
   "cell_type": "code",
   "execution_count": 3,
   "metadata": {},
   "outputs": [
    {
     "data": {
      "text/plain": [
       "-1"
      ]
     },
     "execution_count": 3,
     "metadata": {},
     "output_type": "execute_result"
    }
   ],
   "source": [
    "aligned = imutils.resize(imReg, width=700)\n",
    "template = imutils.resize(imReference, width=700)\n",
    "# our first output visualization of the image alignment will be a\n",
    "# side-by-side comparison of the output aligned image and the\n",
    "# template\n",
    "stacked = np.hstack([aligned, template])\n",
    "\n",
    "# our second image alignment visualization will be *overlaying* the\n",
    "# aligned image on the template, that way we can obtain an idea of\n",
    "# how good our image alignment is\n",
    "overlay = template.copy()\n",
    "output = aligned.copy()\n",
    "cv2.addWeighted(overlay, 0.5, output, 0.5, 0, output)\n",
    "# show the two output image alignment visualizations\n",
    "cv2.imshow(\"Image Alignment Stacked\", stacked)\n",
    "cv2.imshow(\"Image Alignment Overlay\", output)\n",
    "cv2.waitKey(0)"
   ]
  },
  {
   "cell_type": "code",
   "execution_count": null,
   "metadata": {},
   "outputs": [],
   "source": []
  }
 ],
 "metadata": {
  "interpreter": {
   "hash": "c0f70214c0dd213f07f54ee5d6e0ea644bdbba35113c9bfe8aaa0d1db03ad5dd"
  },
  "kernelspec": {
   "display_name": "Python 3.8.5 ('base')",
   "language": "python",
   "name": "python3"
  },
  "language_info": {
   "codemirror_mode": {
    "name": "ipython",
    "version": 3
   },
   "file_extension": ".py",
   "mimetype": "text/x-python",
   "name": "python",
   "nbconvert_exporter": "python",
   "pygments_lexer": "ipython3",
   "version": "3.8.5"
  },
  "orig_nbformat": 4
 },
 "nbformat": 4,
 "nbformat_minor": 2
}
